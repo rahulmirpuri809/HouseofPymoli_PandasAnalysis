{
 "cells": [
  {
   "cell_type": "markdown",
   "metadata": {},
   "source": [
    "### Heroes Of Pymoli Data Analysis\n",
    "* Of the 1163 active players, the vast majority are male (84%). There also exists, a smaller, but notable proportion of female players (14%).\n",
    "\n",
    "* Our peak age demographic falls between 20-24 (44.8%) with secondary groups falling between 15-19 (18.60%) and 25-29 (13.4%).  \n",
    "-----"
   ]
  },
  {
   "cell_type": "markdown",
   "metadata": {},
   "source": [
    "### Note\n",
    "* Instructions have been included for each segment. You do not have to follow them exactly, but they are included to help you think through the steps."
   ]
  },
  {
   "cell_type": "code",
   "execution_count": 7,
   "metadata": {},
   "outputs": [],
   "source": [
    "# Dependencies and Setup\n",
    "import pandas as pd\n",
    "\n",
    "# File to Load (Remember to Change These)\n",
    "file_to_load = \"Resources/purchase_data.csv\"\n",
    "\n",
    "# Read Purchasing File and store into Pandas data frame\n",
    "purchase_data = pd.read_csv(file_to_load)"
   ]
  },
  {
   "cell_type": "markdown",
   "metadata": {},
   "source": [
    "## Player Count"
   ]
  },
  {
   "cell_type": "markdown",
   "metadata": {},
   "source": [
    "* Display the total number of players\n"
   ]
  },
  {
   "cell_type": "code",
   "execution_count": 8,
   "metadata": {},
   "outputs": [
    {
     "data": {
      "text/html": [
       "<div>\n",
       "<style scoped>\n",
       "    .dataframe tbody tr th:only-of-type {\n",
       "        vertical-align: middle;\n",
       "    }\n",
       "\n",
       "    .dataframe tbody tr th {\n",
       "        vertical-align: top;\n",
       "    }\n",
       "\n",
       "    .dataframe thead th {\n",
       "        text-align: right;\n",
       "    }\n",
       "</style>\n",
       "<table border=\"1\" class=\"dataframe\">\n",
       "  <thead>\n",
       "    <tr style=\"text-align: right;\">\n",
       "      <th></th>\n",
       "      <th>Total Players</th>\n",
       "    </tr>\n",
       "  </thead>\n",
       "  <tbody>\n",
       "    <tr>\n",
       "      <th>0</th>\n",
       "      <td>576</td>\n",
       "    </tr>\n",
       "  </tbody>\n",
       "</table>\n",
       "</div>"
      ],
      "text/plain": [
       "   Total Players\n",
       "0            576"
      ]
     },
     "execution_count": 8,
     "metadata": {},
     "output_type": "execute_result"
    }
   ],
   "source": [
    "# count number of unique players using value counts method\n",
    "players=len(purchase_data[\"SN\"].value_counts())\n",
    "\n",
    "#display dataframe for total players\n",
    "pd.DataFrame({\"Total Players\":[players]})"
   ]
  },
  {
   "cell_type": "markdown",
   "metadata": {},
   "source": [
    "## Purchasing Analysis (Total)"
   ]
  },
  {
   "cell_type": "markdown",
   "metadata": {},
   "source": [
    "* Run basic calculations to obtain number of unique items, average price, etc.\n",
    "\n",
    "\n",
    "* Create a summary data frame to hold the results\n",
    "\n",
    "\n",
    "* Optional: give the displayed data cleaner formatting\n",
    "\n",
    "\n",
    "* Display the summary data frame\n"
   ]
  },
  {
   "cell_type": "code",
   "execution_count": 9,
   "metadata": {
    "scrolled": true
   },
   "outputs": [
    {
     "data": {
      "text/html": [
       "<style  type=\"text/css\" >\n",
       "</style><table id=\"T_36db8d38_c28d_11e9_9423_5076afe5d3b8\" ><thead>    <tr>        <th class=\"blank level0\" ></th>        <th class=\"col_heading level0 col0\" >Number of Unique Items</th>        <th class=\"col_heading level0 col1\" >Average Purchase Price</th>        <th class=\"col_heading level0 col2\" >Total Number of Purchases</th>        <th class=\"col_heading level0 col3\" >Total Revenue</th>    </tr></thead><tbody>\n",
       "                <tr>\n",
       "                        <th id=\"T_36db8d38_c28d_11e9_9423_5076afe5d3b8level0_row0\" class=\"row_heading level0 row0\" >0</th>\n",
       "                        <td id=\"T_36db8d38_c28d_11e9_9423_5076afe5d3b8row0_col0\" class=\"data row0 col0\" >179</td>\n",
       "                        <td id=\"T_36db8d38_c28d_11e9_9423_5076afe5d3b8row0_col1\" class=\"data row0 col1\" >$3.05</td>\n",
       "                        <td id=\"T_36db8d38_c28d_11e9_9423_5076afe5d3b8row0_col2\" class=\"data row0 col2\" >780</td>\n",
       "                        <td id=\"T_36db8d38_c28d_11e9_9423_5076afe5d3b8row0_col3\" class=\"data row0 col3\" >$2,379.77</td>\n",
       "            </tr>\n",
       "    </tbody></table>"
      ],
      "text/plain": [
       "<pandas.io.formats.style.Styler at 0x146c6708da0>"
      ]
     },
     "execution_count": 9,
     "metadata": {},
     "output_type": "execute_result"
    }
   ],
   "source": [
    "#find unique items using unique method on the column containing item names\n",
    "unique =len(purchase_data[\"Item Name\"].unique()) \n",
    "\n",
    "#find average purchase price by taking the mean of price column\n",
    "average_purchase_price= purchase_data[\"Price\"].mean()\n",
    "\n",
    "#counts purchase id column to get total number of purchases\n",
    "total_number_of_purchases = purchase_data[\"Purchase ID\"].count()\n",
    "\n",
    "#sum price column to get total revenue\n",
    "total_revenue = purchase_data[\"Price\"].sum()\n",
    "\n",
    "# build summary df and format it for 2 decimal places and a $\n",
    "summary_df= pd.DataFrame({\"Number of Unique Items\":[unique], \"Average Purchase Price\":[average_purchase_price],\"Total Number of Purchases\":[total_number_of_purchases],\"Total Revenue\":[total_revenue]})\n",
    "summary_df.style.format({\"Average Purchase Price\": \"${:,.2f}\",\"Total Revenue\": \"${:,.2f}\"})"
   ]
  },
  {
   "cell_type": "markdown",
   "metadata": {},
   "source": [
    "## Gender Demographics"
   ]
  },
  {
   "cell_type": "markdown",
   "metadata": {},
   "source": [
    "* Percentage and Count of Male Players\n",
    "\n",
    "\n",
    "* Percentage and Count of Female Players\n",
    "\n",
    "\n",
    "* Percentage and Count of Other / Non-Disclosed\n",
    "\n",
    "\n"
   ]
  },
  {
   "cell_type": "code",
   "execution_count": 10,
   "metadata": {},
   "outputs": [
    {
     "data": {
      "text/html": [
       "<style  type=\"text/css\" >\n",
       "</style><table id=\"T_39f43ab0_c28d_11e9_9ba5_5076afe5d3b8\" ><thead>    <tr>        <th class=\"blank level0\" ></th>        <th class=\"col_heading level0 col0\" >Number of Players</th>        <th class=\"col_heading level0 col1\" >Percent Relative to Total</th>    </tr>    <tr>        <th class=\"index_name level0\" >Gender</th>        <th class=\"blank\" ></th>        <th class=\"blank\" ></th>    </tr></thead><tbody>\n",
       "                <tr>\n",
       "                        <th id=\"T_39f43ab0_c28d_11e9_9ba5_5076afe5d3b8level0_row0\" class=\"row_heading level0 row0\" >Female</th>\n",
       "                        <td id=\"T_39f43ab0_c28d_11e9_9ba5_5076afe5d3b8row0_col0\" class=\"data row0 col0\" >81</td>\n",
       "                        <td id=\"T_39f43ab0_c28d_11e9_9ba5_5076afe5d3b8row0_col1\" class=\"data row0 col1\" >14.06%</td>\n",
       "            </tr>\n",
       "            <tr>\n",
       "                        <th id=\"T_39f43ab0_c28d_11e9_9ba5_5076afe5d3b8level0_row1\" class=\"row_heading level0 row1\" >Male</th>\n",
       "                        <td id=\"T_39f43ab0_c28d_11e9_9ba5_5076afe5d3b8row1_col0\" class=\"data row1 col0\" >484</td>\n",
       "                        <td id=\"T_39f43ab0_c28d_11e9_9ba5_5076afe5d3b8row1_col1\" class=\"data row1 col1\" >84.03%</td>\n",
       "            </tr>\n",
       "            <tr>\n",
       "                        <th id=\"T_39f43ab0_c28d_11e9_9ba5_5076afe5d3b8level0_row2\" class=\"row_heading level0 row2\" >Other / Non-Disclosed</th>\n",
       "                        <td id=\"T_39f43ab0_c28d_11e9_9ba5_5076afe5d3b8row2_col0\" class=\"data row2 col0\" >11</td>\n",
       "                        <td id=\"T_39f43ab0_c28d_11e9_9ba5_5076afe5d3b8row2_col1\" class=\"data row2 col1\" >1.91%</td>\n",
       "            </tr>\n",
       "    </tbody></table>"
      ],
      "text/plain": [
       "<pandas.io.formats.style.Styler at 0x146c53a57f0>"
      ]
     },
     "execution_count": 10,
     "metadata": {},
     "output_type": "execute_result"
    }
   ],
   "source": [
    "#group purchase data by gender\n",
    "gender_data = purchase_data.groupby(\"Gender\")\n",
    "\n",
    "#account for unique screen names by gender using nunique \n",
    "unique_gender_data = gender_data[\"SN\"].nunique()\n",
    "\n",
    "# get % of each gender by comparing the players by gender to total count\n",
    "total_gender_data = unique_gender_data.sum()\n",
    "percent_by_gender = (unique_gender_data/total_gender_data)*100\n",
    "\n",
    "#summary df with formatting for 2 decimal spots and %\n",
    "gender_df = pd.DataFrame({\"Number of Players\":unique_gender_data,\"Percent Relative to Total\":percent_by_gender})\n",
    "gender_df.style.format({\"Percent Relative to Total\": \"{:,.2f}%\"})"
   ]
  },
  {
   "cell_type": "markdown",
   "metadata": {},
   "source": [
    "\n",
    "## Purchasing Analysis (Gender)"
   ]
  },
  {
   "cell_type": "markdown",
   "metadata": {},
   "source": [
    "* Run basic calculations to obtain purchase count, avg. purchase price, avg. purchase total per person etc. by gender\n",
    "\n",
    "\n",
    "\n",
    "\n",
    "* Create a summary data frame to hold the results\n",
    "\n",
    "\n",
    "* Optional: give the displayed data cleaner formatting\n",
    "\n",
    "\n",
    "* Display the summary data frame"
   ]
  },
  {
   "cell_type": "code",
   "execution_count": 11,
   "metadata": {},
   "outputs": [
    {
     "data": {
      "text/html": [
       "<style  type=\"text/css\" >\n",
       "</style><table id=\"T_3d13a40c_c28d_11e9_9c7d_5076afe5d3b8\" ><thead>    <tr>        <th class=\"blank level0\" ></th>        <th class=\"col_heading level0 col0\" >Purchase Count</th>        <th class=\"col_heading level0 col1\" >Average Purchase Price</th>        <th class=\"col_heading level0 col2\" >Total Purchase Value</th>        <th class=\"col_heading level0 col3\" >Average Total Purchase per Person</th>    </tr>    <tr>        <th class=\"index_name level0\" >Gender</th>        <th class=\"blank\" ></th>        <th class=\"blank\" ></th>        <th class=\"blank\" ></th>        <th class=\"blank\" ></th>    </tr></thead><tbody>\n",
       "                <tr>\n",
       "                        <th id=\"T_3d13a40c_c28d_11e9_9c7d_5076afe5d3b8level0_row0\" class=\"row_heading level0 row0\" >Female</th>\n",
       "                        <td id=\"T_3d13a40c_c28d_11e9_9c7d_5076afe5d3b8row0_col0\" class=\"data row0 col0\" >113</td>\n",
       "                        <td id=\"T_3d13a40c_c28d_11e9_9c7d_5076afe5d3b8row0_col1\" class=\"data row0 col1\" >$3.20</td>\n",
       "                        <td id=\"T_3d13a40c_c28d_11e9_9c7d_5076afe5d3b8row0_col2\" class=\"data row0 col2\" >361.94</td>\n",
       "                        <td id=\"T_3d13a40c_c28d_11e9_9c7d_5076afe5d3b8row0_col3\" class=\"data row0 col3\" >$4.47</td>\n",
       "            </tr>\n",
       "            <tr>\n",
       "                        <th id=\"T_3d13a40c_c28d_11e9_9c7d_5076afe5d3b8level0_row1\" class=\"row_heading level0 row1\" >Male</th>\n",
       "                        <td id=\"T_3d13a40c_c28d_11e9_9c7d_5076afe5d3b8row1_col0\" class=\"data row1 col0\" >652</td>\n",
       "                        <td id=\"T_3d13a40c_c28d_11e9_9c7d_5076afe5d3b8row1_col1\" class=\"data row1 col1\" >$3.02</td>\n",
       "                        <td id=\"T_3d13a40c_c28d_11e9_9c7d_5076afe5d3b8row1_col2\" class=\"data row1 col2\" >1967.64</td>\n",
       "                        <td id=\"T_3d13a40c_c28d_11e9_9c7d_5076afe5d3b8row1_col3\" class=\"data row1 col3\" >$4.07</td>\n",
       "            </tr>\n",
       "            <tr>\n",
       "                        <th id=\"T_3d13a40c_c28d_11e9_9c7d_5076afe5d3b8level0_row2\" class=\"row_heading level0 row2\" >Other / Non-Disclosed</th>\n",
       "                        <td id=\"T_3d13a40c_c28d_11e9_9c7d_5076afe5d3b8row2_col0\" class=\"data row2 col0\" >15</td>\n",
       "                        <td id=\"T_3d13a40c_c28d_11e9_9c7d_5076afe5d3b8row2_col1\" class=\"data row2 col1\" >$3.35</td>\n",
       "                        <td id=\"T_3d13a40c_c28d_11e9_9c7d_5076afe5d3b8row2_col2\" class=\"data row2 col2\" >50.19</td>\n",
       "                        <td id=\"T_3d13a40c_c28d_11e9_9c7d_5076afe5d3b8row2_col3\" class=\"data row2 col3\" >$4.56</td>\n",
       "            </tr>\n",
       "    </tbody></table>"
      ],
      "text/plain": [
       "<pandas.io.formats.style.Styler at 0x146c59886a0>"
      ]
     },
     "execution_count": 11,
     "metadata": {},
     "output_type": "execute_result"
    }
   ],
   "source": [
    "#counts purchase id by gender to get purchases by gender\n",
    "purchase_count = gender_data[\"Purchase ID\"].count()\n",
    "\n",
    "#averages price by gender\n",
    "average_purchase_price= gender_data[\"Price\"].mean()\n",
    "\n",
    "#total purchase value by gender by summing price column by gender\n",
    "total_purchase_value = gender_data[\"Price\"].sum()\n",
    "\n",
    "#compare total purchase value by gender to amoount of players in that gender\n",
    "avg_purchase_per_person= total_purchase_value/unique_gender_data\n",
    "\n",
    "#summary df and formatting\n",
    "gender_purchase_df = pd.DataFrame({\"Purchase Count\":purchase_count,\"Average Purchase Price\":average_purchase_price,\"Total Purchase Value\":total_purchase_value,\"Average Total Purchase per Person\":avg_purchase_per_person})\n",
    "gender_purchase_df.style.format({\"Average Purchase Price\": \"${:,.2f}\", \"Average Total Purchase per Person\":\"${:,.2f}\"})\n"
   ]
  },
  {
   "cell_type": "markdown",
   "metadata": {},
   "source": [
    "## Age Demographics"
   ]
  },
  {
   "cell_type": "markdown",
   "metadata": {},
   "source": [
    "* Establish bins for ages\n",
    "\n",
    "\n",
    "* Categorize the existing players using the age bins. Hint: use pd.cut()\n",
    "\n",
    "\n",
    "* Calculate the numbers and percentages by age group\n",
    "\n",
    "\n",
    "* Create a summary data frame to hold the results\n",
    "\n",
    "\n",
    "* Optional: round the percentage column to two decimal points\n",
    "\n",
    "\n",
    "* Display Age Demographics Table\n"
   ]
  },
  {
   "cell_type": "code",
   "execution_count": 13,
   "metadata": {},
   "outputs": [
    {
     "data": {
      "text/html": [
       "<style  type=\"text/css\" >\n",
       "</style><table id=\"T_429cf308_c28d_11e9_892c_5076afe5d3b8\" ><thead>    <tr>        <th class=\"blank level0\" ></th>        <th class=\"col_heading level0 col0\" >Total Count</th>        <th class=\"col_heading level0 col1\" >Percentage of Players</th>    </tr>    <tr>        <th class=\"index_name level0\" >Age Group</th>        <th class=\"blank\" ></th>        <th class=\"blank\" ></th>    </tr></thead><tbody>\n",
       "                <tr>\n",
       "                        <th id=\"T_429cf308_c28d_11e9_892c_5076afe5d3b8level0_row0\" class=\"row_heading level0 row0\" ><10</th>\n",
       "                        <td id=\"T_429cf308_c28d_11e9_892c_5076afe5d3b8row0_col0\" class=\"data row0 col0\" >17</td>\n",
       "                        <td id=\"T_429cf308_c28d_11e9_892c_5076afe5d3b8row0_col1\" class=\"data row0 col1\" >2.95%</td>\n",
       "            </tr>\n",
       "            <tr>\n",
       "                        <th id=\"T_429cf308_c28d_11e9_892c_5076afe5d3b8level0_row1\" class=\"row_heading level0 row1\" >10-14</th>\n",
       "                        <td id=\"T_429cf308_c28d_11e9_892c_5076afe5d3b8row1_col0\" class=\"data row1 col0\" >22</td>\n",
       "                        <td id=\"T_429cf308_c28d_11e9_892c_5076afe5d3b8row1_col1\" class=\"data row1 col1\" >3.82%</td>\n",
       "            </tr>\n",
       "            <tr>\n",
       "                        <th id=\"T_429cf308_c28d_11e9_892c_5076afe5d3b8level0_row2\" class=\"row_heading level0 row2\" >15-19</th>\n",
       "                        <td id=\"T_429cf308_c28d_11e9_892c_5076afe5d3b8row2_col0\" class=\"data row2 col0\" >90</td>\n",
       "                        <td id=\"T_429cf308_c28d_11e9_892c_5076afe5d3b8row2_col1\" class=\"data row2 col1\" >15.62%</td>\n",
       "            </tr>\n",
       "            <tr>\n",
       "                        <th id=\"T_429cf308_c28d_11e9_892c_5076afe5d3b8level0_row3\" class=\"row_heading level0 row3\" >20-24</th>\n",
       "                        <td id=\"T_429cf308_c28d_11e9_892c_5076afe5d3b8row3_col0\" class=\"data row3 col0\" >227</td>\n",
       "                        <td id=\"T_429cf308_c28d_11e9_892c_5076afe5d3b8row3_col1\" class=\"data row3 col1\" >39.41%</td>\n",
       "            </tr>\n",
       "            <tr>\n",
       "                        <th id=\"T_429cf308_c28d_11e9_892c_5076afe5d3b8level0_row4\" class=\"row_heading level0 row4\" >25-29</th>\n",
       "                        <td id=\"T_429cf308_c28d_11e9_892c_5076afe5d3b8row4_col0\" class=\"data row4 col0\" >115</td>\n",
       "                        <td id=\"T_429cf308_c28d_11e9_892c_5076afe5d3b8row4_col1\" class=\"data row4 col1\" >19.97%</td>\n",
       "            </tr>\n",
       "            <tr>\n",
       "                        <th id=\"T_429cf308_c28d_11e9_892c_5076afe5d3b8level0_row5\" class=\"row_heading level0 row5\" >30-34</th>\n",
       "                        <td id=\"T_429cf308_c28d_11e9_892c_5076afe5d3b8row5_col0\" class=\"data row5 col0\" >55</td>\n",
       "                        <td id=\"T_429cf308_c28d_11e9_892c_5076afe5d3b8row5_col1\" class=\"data row5 col1\" >9.55%</td>\n",
       "            </tr>\n",
       "            <tr>\n",
       "                        <th id=\"T_429cf308_c28d_11e9_892c_5076afe5d3b8level0_row6\" class=\"row_heading level0 row6\" >35-39</th>\n",
       "                        <td id=\"T_429cf308_c28d_11e9_892c_5076afe5d3b8row6_col0\" class=\"data row6 col0\" >32</td>\n",
       "                        <td id=\"T_429cf308_c28d_11e9_892c_5076afe5d3b8row6_col1\" class=\"data row6 col1\" >5.56%</td>\n",
       "            </tr>\n",
       "            <tr>\n",
       "                        <th id=\"T_429cf308_c28d_11e9_892c_5076afe5d3b8level0_row7\" class=\"row_heading level0 row7\" >40+</th>\n",
       "                        <td id=\"T_429cf308_c28d_11e9_892c_5076afe5d3b8row7_col0\" class=\"data row7 col0\" >18</td>\n",
       "                        <td id=\"T_429cf308_c28d_11e9_892c_5076afe5d3b8row7_col1\" class=\"data row7 col1\" >3.12%</td>\n",
       "            </tr>\n",
       "    </tbody></table>"
      ],
      "text/plain": [
       "<pandas.io.formats.style.Styler at 0x146c6704cf8>"
      ]
     },
     "execution_count": 13,
     "metadata": {},
     "output_type": "execute_result"
    }
   ],
   "source": [
    "# create labels for group names and bins for reference\n",
    "labels = [\"<10\", \"10-14\", \"15-19\", \"20-24\", \"25-29\", \"30-34\", \"35-39\",\"40+\"]\n",
    "bins= [0,9.9,14.99,18.99,23.99,28.99,33.99,38.99,9999]\n",
    "\n",
    "#use pd.cut method to create an age group column that categorizes data by the above labels \n",
    "purchase_data[\"Age Group\"] = pd.cut(purchase_data[\"Age\"],bins, labels=labels)\n",
    "\n",
    "#groups by age group and filters for unique screen names\n",
    "age_groups= purchase_data.groupby(\"Age Group\")\n",
    "unique_age= age_groups[\"SN\"].nunique()\n",
    "\n",
    "#compare age group to whole\n",
    "percent_by_age = (unique_age/total_gender_data)*100\n",
    "\n",
    "#display summary df and format\n",
    "age_df = pd.DataFrame({\"Total Count\":unique_age,\"Percentage of Players\":percent_by_age})\n",
    "age_df.style.format({\"Percentage of Players\":\"{:,.2f}%\"})"
   ]
  },
  {
   "cell_type": "markdown",
   "metadata": {},
   "source": [
    "## Purchasing Analysis (Age)"
   ]
  },
  {
   "cell_type": "markdown",
   "metadata": {},
   "source": [
    "* Bin the purchase_data data frame by age\n",
    "\n",
    "\n",
    "* Run basic calculations to obtain purchase count, avg. purchase price, avg. purchase total per person etc. in the table below\n",
    "\n",
    "\n",
    "* Create a summary data frame to hold the results\n",
    "\n",
    "\n",
    "* Optional: give the displayed data cleaner formatting\n",
    "\n",
    "\n",
    "* Display the summary data frame"
   ]
  },
  {
   "cell_type": "code",
   "execution_count": 14,
   "metadata": {},
   "outputs": [
    {
     "data": {
      "text/html": [
       "<style  type=\"text/css\" >\n",
       "</style><table id=\"T_4380baee_c28d_11e9_9761_5076afe5d3b8\" ><thead>    <tr>        <th class=\"blank level0\" ></th>        <th class=\"col_heading level0 col0\" >Purchase Count</th>        <th class=\"col_heading level0 col1\" >Average Purchase Price</th>        <th class=\"col_heading level0 col2\" >Total Purchase Value</th>        <th class=\"col_heading level0 col3\" >Average Total Purchase Per Person</th>    </tr>    <tr>        <th class=\"index_name level0\" >Age Group</th>        <th class=\"blank\" ></th>        <th class=\"blank\" ></th>        <th class=\"blank\" ></th>        <th class=\"blank\" ></th>    </tr></thead><tbody>\n",
       "                <tr>\n",
       "                        <th id=\"T_4380baee_c28d_11e9_9761_5076afe5d3b8level0_row0\" class=\"row_heading level0 row0\" ><10</th>\n",
       "                        <td id=\"T_4380baee_c28d_11e9_9761_5076afe5d3b8row0_col0\" class=\"data row0 col0\" >23</td>\n",
       "                        <td id=\"T_4380baee_c28d_11e9_9761_5076afe5d3b8row0_col1\" class=\"data row0 col1\" >$3.35</td>\n",
       "                        <td id=\"T_4380baee_c28d_11e9_9761_5076afe5d3b8row0_col2\" class=\"data row0 col2\" >$77.13</td>\n",
       "                        <td id=\"T_4380baee_c28d_11e9_9761_5076afe5d3b8row0_col3\" class=\"data row0 col3\" >$4.54</td>\n",
       "            </tr>\n",
       "            <tr>\n",
       "                        <th id=\"T_4380baee_c28d_11e9_9761_5076afe5d3b8level0_row1\" class=\"row_heading level0 row1\" >10-14</th>\n",
       "                        <td id=\"T_4380baee_c28d_11e9_9761_5076afe5d3b8row1_col0\" class=\"data row1 col0\" >28</td>\n",
       "                        <td id=\"T_4380baee_c28d_11e9_9761_5076afe5d3b8row1_col1\" class=\"data row1 col1\" >$2.96</td>\n",
       "                        <td id=\"T_4380baee_c28d_11e9_9761_5076afe5d3b8row1_col2\" class=\"data row1 col2\" >$82.78</td>\n",
       "                        <td id=\"T_4380baee_c28d_11e9_9761_5076afe5d3b8row1_col3\" class=\"data row1 col3\" >$3.76</td>\n",
       "            </tr>\n",
       "            <tr>\n",
       "                        <th id=\"T_4380baee_c28d_11e9_9761_5076afe5d3b8level0_row2\" class=\"row_heading level0 row2\" >15-19</th>\n",
       "                        <td id=\"T_4380baee_c28d_11e9_9761_5076afe5d3b8row2_col0\" class=\"data row2 col0\" >113</td>\n",
       "                        <td id=\"T_4380baee_c28d_11e9_9761_5076afe5d3b8row2_col1\" class=\"data row2 col1\" >$3.03</td>\n",
       "                        <td id=\"T_4380baee_c28d_11e9_9761_5076afe5d3b8row2_col2\" class=\"data row2 col2\" >$342.91</td>\n",
       "                        <td id=\"T_4380baee_c28d_11e9_9761_5076afe5d3b8row2_col3\" class=\"data row2 col3\" >$3.81</td>\n",
       "            </tr>\n",
       "            <tr>\n",
       "                        <th id=\"T_4380baee_c28d_11e9_9761_5076afe5d3b8level0_row3\" class=\"row_heading level0 row3\" >20-24</th>\n",
       "                        <td id=\"T_4380baee_c28d_11e9_9761_5076afe5d3b8row3_col0\" class=\"data row3 col0\" >321</td>\n",
       "                        <td id=\"T_4380baee_c28d_11e9_9761_5076afe5d3b8row3_col1\" class=\"data row3 col1\" >$3.03</td>\n",
       "                        <td id=\"T_4380baee_c28d_11e9_9761_5076afe5d3b8row3_col2\" class=\"data row3 col2\" >$973.82</td>\n",
       "                        <td id=\"T_4380baee_c28d_11e9_9761_5076afe5d3b8row3_col3\" class=\"data row3 col3\" >$4.29</td>\n",
       "            </tr>\n",
       "            <tr>\n",
       "                        <th id=\"T_4380baee_c28d_11e9_9761_5076afe5d3b8level0_row4\" class=\"row_heading level0 row4\" >25-29</th>\n",
       "                        <td id=\"T_4380baee_c28d_11e9_9761_5076afe5d3b8row4_col0\" class=\"data row4 col0\" >155</td>\n",
       "                        <td id=\"T_4380baee_c28d_11e9_9761_5076afe5d3b8row4_col1\" class=\"data row4 col1\" >$3.02</td>\n",
       "                        <td id=\"T_4380baee_c28d_11e9_9761_5076afe5d3b8row4_col2\" class=\"data row4 col2\" >$467.99</td>\n",
       "                        <td id=\"T_4380baee_c28d_11e9_9761_5076afe5d3b8row4_col3\" class=\"data row4 col3\" >$4.07</td>\n",
       "            </tr>\n",
       "            <tr>\n",
       "                        <th id=\"T_4380baee_c28d_11e9_9761_5076afe5d3b8level0_row5\" class=\"row_heading level0 row5\" >30-34</th>\n",
       "                        <td id=\"T_4380baee_c28d_11e9_9761_5076afe5d3b8row5_col0\" class=\"data row5 col0\" >77</td>\n",
       "                        <td id=\"T_4380baee_c28d_11e9_9761_5076afe5d3b8row5_col1\" class=\"data row5 col1\" >$2.95</td>\n",
       "                        <td id=\"T_4380baee_c28d_11e9_9761_5076afe5d3b8row5_col2\" class=\"data row5 col2\" >$227.10</td>\n",
       "                        <td id=\"T_4380baee_c28d_11e9_9761_5076afe5d3b8row5_col3\" class=\"data row5 col3\" >$4.13</td>\n",
       "            </tr>\n",
       "            <tr>\n",
       "                        <th id=\"T_4380baee_c28d_11e9_9761_5076afe5d3b8level0_row6\" class=\"row_heading level0 row6\" >35-39</th>\n",
       "                        <td id=\"T_4380baee_c28d_11e9_9761_5076afe5d3b8row6_col0\" class=\"data row6 col0\" >44</td>\n",
       "                        <td id=\"T_4380baee_c28d_11e9_9761_5076afe5d3b8row6_col1\" class=\"data row6 col1\" >$3.33</td>\n",
       "                        <td id=\"T_4380baee_c28d_11e9_9761_5076afe5d3b8row6_col2\" class=\"data row6 col2\" >$146.48</td>\n",
       "                        <td id=\"T_4380baee_c28d_11e9_9761_5076afe5d3b8row6_col3\" class=\"data row6 col3\" >$4.58</td>\n",
       "            </tr>\n",
       "            <tr>\n",
       "                        <th id=\"T_4380baee_c28d_11e9_9761_5076afe5d3b8level0_row7\" class=\"row_heading level0 row7\" >40+</th>\n",
       "                        <td id=\"T_4380baee_c28d_11e9_9761_5076afe5d3b8row7_col0\" class=\"data row7 col0\" >19</td>\n",
       "                        <td id=\"T_4380baee_c28d_11e9_9761_5076afe5d3b8row7_col1\" class=\"data row7 col1\" >$3.24</td>\n",
       "                        <td id=\"T_4380baee_c28d_11e9_9761_5076afe5d3b8row7_col2\" class=\"data row7 col2\" >$61.56</td>\n",
       "                        <td id=\"T_4380baee_c28d_11e9_9761_5076afe5d3b8row7_col3\" class=\"data row7 col3\" >$3.42</td>\n",
       "            </tr>\n",
       "    </tbody></table>"
      ],
      "text/plain": [
       "<pandas.io.formats.style.Styler at 0x146c6704eb8>"
      ]
     },
     "execution_count": 14,
     "metadata": {},
     "output_type": "execute_result"
    }
   ],
   "source": [
    "#count purchases by age group by counting purchase id\n",
    "purchase_count_age = age_groups[\"Purchase ID\"].count()\n",
    "\n",
    "# average price column per age group\n",
    "average_purchase_price_age = age_groups[\"Price\"].mean()\n",
    "\n",
    "#total purchase value per age group\n",
    "total_purchase_value= age_groups[\"Price\"].sum()\n",
    "\n",
    "# divide total purchases by age group by people in that age group (for every age group)\n",
    "average_purchase_per_person_age = total_purchase_value/unique_age\n",
    "\n",
    "#summary df and formatting\n",
    "age_purchase_df = pd.DataFrame({\"Purchase Count\":purchase_count_age,\"Average Purchase Price\":average_purchase_price_age,\"Total Purchase Value\":total_purchase_value,\"Average Total Purchase Per Person\":average_purchase_per_person_age})\n",
    "age_purchase_df.style.format({\"Average Purchase Price\":\"${:,.2f}\",\"Total Purchase Value\":\"${:,.2f}\",\"Average Total Purchase Per Person\":\"${:,.2f}\"})\n"
   ]
  },
  {
   "cell_type": "markdown",
   "metadata": {},
   "source": [
    "## Top Spenders"
   ]
  },
  {
   "cell_type": "markdown",
   "metadata": {},
   "source": [
    "* Run basic calculations to obtain the results in the table below\n",
    "\n",
    "\n",
    "* Create a summary data frame to hold the results\n",
    "\n",
    "\n",
    "* Sort the total purchase value column in descending order\n",
    "\n",
    "\n",
    "* Optional: give the displayed data cleaner formatting\n",
    "\n",
    "\n",
    "* Display a preview of the summary data frame\n",
    "\n"
   ]
  },
  {
   "cell_type": "code",
   "execution_count": 15,
   "metadata": {},
   "outputs": [
    {
     "data": {
      "text/html": [
       "<style  type=\"text/css\" >\n",
       "</style><table id=\"T_44a6b8d2_c28d_11e9_85a6_5076afe5d3b8\" ><thead>    <tr>        <th class=\"blank level0\" ></th>        <th class=\"col_heading level0 col0\" >Purchase Count</th>        <th class=\"col_heading level0 col1\" >Average Purchase Price</th>        <th class=\"col_heading level0 col2\" >Total Purchase Value</th>    </tr>    <tr>        <th class=\"index_name level0\" >SN</th>        <th class=\"blank\" ></th>        <th class=\"blank\" ></th>        <th class=\"blank\" ></th>    </tr></thead><tbody>\n",
       "                <tr>\n",
       "                        <th id=\"T_44a6b8d2_c28d_11e9_85a6_5076afe5d3b8level0_row0\" class=\"row_heading level0 row0\" >Lisosia93</th>\n",
       "                        <td id=\"T_44a6b8d2_c28d_11e9_85a6_5076afe5d3b8row0_col0\" class=\"data row0 col0\" >5</td>\n",
       "                        <td id=\"T_44a6b8d2_c28d_11e9_85a6_5076afe5d3b8row0_col1\" class=\"data row0 col1\" >$3.79</td>\n",
       "                        <td id=\"T_44a6b8d2_c28d_11e9_85a6_5076afe5d3b8row0_col2\" class=\"data row0 col2\" >$18.96</td>\n",
       "            </tr>\n",
       "            <tr>\n",
       "                        <th id=\"T_44a6b8d2_c28d_11e9_85a6_5076afe5d3b8level0_row1\" class=\"row_heading level0 row1\" >Idastidru52</th>\n",
       "                        <td id=\"T_44a6b8d2_c28d_11e9_85a6_5076afe5d3b8row1_col0\" class=\"data row1 col0\" >4</td>\n",
       "                        <td id=\"T_44a6b8d2_c28d_11e9_85a6_5076afe5d3b8row1_col1\" class=\"data row1 col1\" >$3.86</td>\n",
       "                        <td id=\"T_44a6b8d2_c28d_11e9_85a6_5076afe5d3b8row1_col2\" class=\"data row1 col2\" >$15.45</td>\n",
       "            </tr>\n",
       "            <tr>\n",
       "                        <th id=\"T_44a6b8d2_c28d_11e9_85a6_5076afe5d3b8level0_row2\" class=\"row_heading level0 row2\" >Chamjask73</th>\n",
       "                        <td id=\"T_44a6b8d2_c28d_11e9_85a6_5076afe5d3b8row2_col0\" class=\"data row2 col0\" >3</td>\n",
       "                        <td id=\"T_44a6b8d2_c28d_11e9_85a6_5076afe5d3b8row2_col1\" class=\"data row2 col1\" >$4.61</td>\n",
       "                        <td id=\"T_44a6b8d2_c28d_11e9_85a6_5076afe5d3b8row2_col2\" class=\"data row2 col2\" >$13.83</td>\n",
       "            </tr>\n",
       "            <tr>\n",
       "                        <th id=\"T_44a6b8d2_c28d_11e9_85a6_5076afe5d3b8level0_row3\" class=\"row_heading level0 row3\" >Iral74</th>\n",
       "                        <td id=\"T_44a6b8d2_c28d_11e9_85a6_5076afe5d3b8row3_col0\" class=\"data row3 col0\" >4</td>\n",
       "                        <td id=\"T_44a6b8d2_c28d_11e9_85a6_5076afe5d3b8row3_col1\" class=\"data row3 col1\" >$3.40</td>\n",
       "                        <td id=\"T_44a6b8d2_c28d_11e9_85a6_5076afe5d3b8row3_col2\" class=\"data row3 col2\" >$13.62</td>\n",
       "            </tr>\n",
       "            <tr>\n",
       "                        <th id=\"T_44a6b8d2_c28d_11e9_85a6_5076afe5d3b8level0_row4\" class=\"row_heading level0 row4\" >Iskadarya95</th>\n",
       "                        <td id=\"T_44a6b8d2_c28d_11e9_85a6_5076afe5d3b8row4_col0\" class=\"data row4 col0\" >3</td>\n",
       "                        <td id=\"T_44a6b8d2_c28d_11e9_85a6_5076afe5d3b8row4_col1\" class=\"data row4 col1\" >$4.37</td>\n",
       "                        <td id=\"T_44a6b8d2_c28d_11e9_85a6_5076afe5d3b8row4_col2\" class=\"data row4 col2\" >$13.10</td>\n",
       "            </tr>\n",
       "    </tbody></table>"
      ],
      "text/plain": [
       "<pandas.io.formats.style.Styler at 0x146c670d438>"
      ]
     },
     "execution_count": 15,
     "metadata": {},
     "output_type": "execute_result"
    }
   ],
   "source": [
    "# group data by screen name \n",
    "screen_name_stats = purchase_data.groupby(\"SN\")\n",
    "\n",
    "#count purchases by screen name\n",
    "purchases_sn=screen_name_stats[\"Purchase ID\"].count()\n",
    "\n",
    "#average purchase price per screen name\n",
    "average_purchase_sn=screen_name_stats[\"Price\"].mean()\n",
    "\n",
    "#total purchases per screen name\n",
    "sum_sn= screen_name_stats[\"Price\"].sum()\n",
    "\n",
    "#create a dataframe and sort it in descending order to display top purchases\n",
    "sn_df = pd.DataFrame({\"Purchase Count\":purchases_sn,\"Average Purchase Price\":average_purchase_sn,\"Total Purchase Value\":sum_sn})\n",
    "top_spenders_df = sn_df.sort_values([\"Total Purchase Value\"], ascending=False).head()\n",
    "top_spenders_df.style.format({\"Average Purchase Price\":\"${:,.2f}\", \"Total Purchase Value\":\"${:,.2f}\"})\n"
   ]
  },
  {
   "cell_type": "markdown",
   "metadata": {},
   "source": [
    "## Most Popular Items"
   ]
  },
  {
   "cell_type": "markdown",
   "metadata": {},
   "source": [
    "* Retrieve the Item ID, Item Name, and Item Price columns\n",
    "\n",
    "\n",
    "* Group by Item ID and Item Name. Perform calculations to obtain purchase count, item price, and total purchase value\n",
    "\n",
    "\n",
    "* Create a summary data frame to hold the results\n",
    "\n",
    "\n",
    "* Sort the purchase count column in descending order\n",
    "\n",
    "\n",
    "* Optional: give the displayed data cleaner formatting\n",
    "\n",
    "\n",
    "* Display a preview of the summary data frame\n",
    "\n"
   ]
  },
  {
   "cell_type": "code",
   "execution_count": 18,
   "metadata": {
    "scrolled": true
   },
   "outputs": [
    {
     "data": {
      "text/html": [
       "<style  type=\"text/css\" >\n",
       "</style><table id=\"T_8e3cf662_c290_11e9_83fb_5076afe5d3b8\" ><thead>    <tr>        <th class=\"blank\" ></th>        <th class=\"blank level0\" ></th>        <th class=\"col_heading level0 col0\" >Purchase Count</th>        <th class=\"col_heading level0 col1\" >Item Price</th>        <th class=\"col_heading level0 col2\" >Total Purchase Value</th>    </tr>    <tr>        <th class=\"index_name level0\" >Item ID</th>        <th class=\"index_name level1\" >Item Name</th>        <th class=\"blank\" ></th>        <th class=\"blank\" ></th>        <th class=\"blank\" ></th>    </tr></thead><tbody>\n",
       "                <tr>\n",
       "                        <th id=\"T_8e3cf662_c290_11e9_83fb_5076afe5d3b8level0_row0\" class=\"row_heading level0 row0\" >178</th>\n",
       "                        <th id=\"T_8e3cf662_c290_11e9_83fb_5076afe5d3b8level1_row0\" class=\"row_heading level1 row0\" >Oathbreaker, Last Hope of the Breaking Storm</th>\n",
       "                        <td id=\"T_8e3cf662_c290_11e9_83fb_5076afe5d3b8row0_col0\" class=\"data row0 col0\" >12</td>\n",
       "                        <td id=\"T_8e3cf662_c290_11e9_83fb_5076afe5d3b8row0_col1\" class=\"data row0 col1\" >$4.23</td>\n",
       "                        <td id=\"T_8e3cf662_c290_11e9_83fb_5076afe5d3b8row0_col2\" class=\"data row0 col2\" >$50.76</td>\n",
       "            </tr>\n",
       "            <tr>\n",
       "                        <th id=\"T_8e3cf662_c290_11e9_83fb_5076afe5d3b8level0_row1\" class=\"row_heading level0 row1\" >145</th>\n",
       "                        <th id=\"T_8e3cf662_c290_11e9_83fb_5076afe5d3b8level1_row1\" class=\"row_heading level1 row1\" >Fiery Glass Crusader</th>\n",
       "                        <td id=\"T_8e3cf662_c290_11e9_83fb_5076afe5d3b8row1_col0\" class=\"data row1 col0\" >9</td>\n",
       "                        <td id=\"T_8e3cf662_c290_11e9_83fb_5076afe5d3b8row1_col1\" class=\"data row1 col1\" >$4.58</td>\n",
       "                        <td id=\"T_8e3cf662_c290_11e9_83fb_5076afe5d3b8row1_col2\" class=\"data row1 col2\" >$41.22</td>\n",
       "            </tr>\n",
       "            <tr>\n",
       "                        <th id=\"T_8e3cf662_c290_11e9_83fb_5076afe5d3b8level0_row2\" class=\"row_heading level0 row2\" >108</th>\n",
       "                        <th id=\"T_8e3cf662_c290_11e9_83fb_5076afe5d3b8level1_row2\" class=\"row_heading level1 row2\" >Extraction, Quickblade Of Trembling Hands</th>\n",
       "                        <td id=\"T_8e3cf662_c290_11e9_83fb_5076afe5d3b8row2_col0\" class=\"data row2 col0\" >9</td>\n",
       "                        <td id=\"T_8e3cf662_c290_11e9_83fb_5076afe5d3b8row2_col1\" class=\"data row2 col1\" >$3.53</td>\n",
       "                        <td id=\"T_8e3cf662_c290_11e9_83fb_5076afe5d3b8row2_col2\" class=\"data row2 col2\" >$31.77</td>\n",
       "            </tr>\n",
       "            <tr>\n",
       "                        <th id=\"T_8e3cf662_c290_11e9_83fb_5076afe5d3b8level0_row3\" class=\"row_heading level0 row3\" >82</th>\n",
       "                        <th id=\"T_8e3cf662_c290_11e9_83fb_5076afe5d3b8level1_row3\" class=\"row_heading level1 row3\" >Nirvana</th>\n",
       "                        <td id=\"T_8e3cf662_c290_11e9_83fb_5076afe5d3b8row3_col0\" class=\"data row3 col0\" >9</td>\n",
       "                        <td id=\"T_8e3cf662_c290_11e9_83fb_5076afe5d3b8row3_col1\" class=\"data row3 col1\" >$4.90</td>\n",
       "                        <td id=\"T_8e3cf662_c290_11e9_83fb_5076afe5d3b8row3_col2\" class=\"data row3 col2\" >$44.10</td>\n",
       "            </tr>\n",
       "            <tr>\n",
       "                        <th id=\"T_8e3cf662_c290_11e9_83fb_5076afe5d3b8level0_row4\" class=\"row_heading level0 row4\" >19</th>\n",
       "                        <th id=\"T_8e3cf662_c290_11e9_83fb_5076afe5d3b8level1_row4\" class=\"row_heading level1 row4\" >Pursuit, Cudgel of Necromancy</th>\n",
       "                        <td id=\"T_8e3cf662_c290_11e9_83fb_5076afe5d3b8row4_col0\" class=\"data row4 col0\" >8</td>\n",
       "                        <td id=\"T_8e3cf662_c290_11e9_83fb_5076afe5d3b8row4_col1\" class=\"data row4 col1\" >$1.02</td>\n",
       "                        <td id=\"T_8e3cf662_c290_11e9_83fb_5076afe5d3b8row4_col2\" class=\"data row4 col2\" >$8.16</td>\n",
       "            </tr>\n",
       "    </tbody></table>"
      ],
      "text/plain": [
       "<pandas.io.formats.style.Styler at 0x146c5988b70>"
      ]
     },
     "execution_count": 18,
     "metadata": {},
     "output_type": "execute_result"
    }
   ],
   "source": [
    "#retrieve Item ID, Item Name, and Item Price columns\n",
    "items = purchase_data[[\"Item ID\", \"Item Name\",\"Price\"]]\n",
    "\n",
    "# group original dataframe by item id and item name\n",
    "itemgroups=purchase_data.groupby([\"Item ID\",\"Item Name\"])\n",
    "\n",
    "# count the number of items bought\n",
    "item_purchase_count=itemgroups[\"Price\"].count()\n",
    "\n",
    "#total value spent on the items \n",
    "item_sum= itemgroups[\"Price\"].sum()\n",
    "\n",
    "#calculate item price by dividing total spent on items by total count of items\n",
    "item_price = item_sum/item_purchase_count\n",
    "\n",
    "#create a summary dataframe with descending value by purchase count\n",
    "items_df = pd.DataFrame({\"Purchase Count\":item_purchase_count, \"Item Price\":item_price,\"Total Purchase Value\":item_sum})\n",
    "items_formatted_df=items_df.sort_values([\"Purchase Count\"], ascending=False).head()\n",
    "items_formatted_df.style.format({\"Item Price\":\"${:,.2f}\",\"Total Purchase Value\":\"${:,.2f}\"})"
   ]
  },
  {
   "cell_type": "markdown",
   "metadata": {},
   "source": [
    "## Most Profitable Items"
   ]
  },
  {
   "cell_type": "markdown",
   "metadata": {},
   "source": [
    "* Sort the above table by total purchase value in descending order\n",
    "\n",
    "\n",
    "* Optional: give the displayed data cleaner formatting\n",
    "\n",
    "\n",
    "* Display a preview of the data frame\n",
    "\n"
   ]
  },
  {
   "cell_type": "code",
   "execution_count": 20,
   "metadata": {
    "scrolled": true
   },
   "outputs": [
    {
     "data": {
      "text/html": [
       "<style  type=\"text/css\" >\n",
       "</style><table id=\"T_f13921b0_c290_11e9_8e93_5076afe5d3b8\" ><thead>    <tr>        <th class=\"blank\" ></th>        <th class=\"blank level0\" ></th>        <th class=\"col_heading level0 col0\" >Purchase Count</th>        <th class=\"col_heading level0 col1\" >Item Price</th>        <th class=\"col_heading level0 col2\" >Total Purchase Value</th>    </tr>    <tr>        <th class=\"index_name level0\" >Item ID</th>        <th class=\"index_name level1\" >Item Name</th>        <th class=\"blank\" ></th>        <th class=\"blank\" ></th>        <th class=\"blank\" ></th>    </tr></thead><tbody>\n",
       "                <tr>\n",
       "                        <th id=\"T_f13921b0_c290_11e9_8e93_5076afe5d3b8level0_row0\" class=\"row_heading level0 row0\" >178</th>\n",
       "                        <th id=\"T_f13921b0_c290_11e9_8e93_5076afe5d3b8level1_row0\" class=\"row_heading level1 row0\" >Oathbreaker, Last Hope of the Breaking Storm</th>\n",
       "                        <td id=\"T_f13921b0_c290_11e9_8e93_5076afe5d3b8row0_col0\" class=\"data row0 col0\" >12</td>\n",
       "                        <td id=\"T_f13921b0_c290_11e9_8e93_5076afe5d3b8row0_col1\" class=\"data row0 col1\" >$4.23</td>\n",
       "                        <td id=\"T_f13921b0_c290_11e9_8e93_5076afe5d3b8row0_col2\" class=\"data row0 col2\" >$50.76</td>\n",
       "            </tr>\n",
       "            <tr>\n",
       "                        <th id=\"T_f13921b0_c290_11e9_8e93_5076afe5d3b8level0_row1\" class=\"row_heading level0 row1\" >82</th>\n",
       "                        <th id=\"T_f13921b0_c290_11e9_8e93_5076afe5d3b8level1_row1\" class=\"row_heading level1 row1\" >Nirvana</th>\n",
       "                        <td id=\"T_f13921b0_c290_11e9_8e93_5076afe5d3b8row1_col0\" class=\"data row1 col0\" >9</td>\n",
       "                        <td id=\"T_f13921b0_c290_11e9_8e93_5076afe5d3b8row1_col1\" class=\"data row1 col1\" >$4.90</td>\n",
       "                        <td id=\"T_f13921b0_c290_11e9_8e93_5076afe5d3b8row1_col2\" class=\"data row1 col2\" >$44.10</td>\n",
       "            </tr>\n",
       "            <tr>\n",
       "                        <th id=\"T_f13921b0_c290_11e9_8e93_5076afe5d3b8level0_row2\" class=\"row_heading level0 row2\" >145</th>\n",
       "                        <th id=\"T_f13921b0_c290_11e9_8e93_5076afe5d3b8level1_row2\" class=\"row_heading level1 row2\" >Fiery Glass Crusader</th>\n",
       "                        <td id=\"T_f13921b0_c290_11e9_8e93_5076afe5d3b8row2_col0\" class=\"data row2 col0\" >9</td>\n",
       "                        <td id=\"T_f13921b0_c290_11e9_8e93_5076afe5d3b8row2_col1\" class=\"data row2 col1\" >$4.58</td>\n",
       "                        <td id=\"T_f13921b0_c290_11e9_8e93_5076afe5d3b8row2_col2\" class=\"data row2 col2\" >$41.22</td>\n",
       "            </tr>\n",
       "            <tr>\n",
       "                        <th id=\"T_f13921b0_c290_11e9_8e93_5076afe5d3b8level0_row3\" class=\"row_heading level0 row3\" >92</th>\n",
       "                        <th id=\"T_f13921b0_c290_11e9_8e93_5076afe5d3b8level1_row3\" class=\"row_heading level1 row3\" >Final Critic</th>\n",
       "                        <td id=\"T_f13921b0_c290_11e9_8e93_5076afe5d3b8row3_col0\" class=\"data row3 col0\" >8</td>\n",
       "                        <td id=\"T_f13921b0_c290_11e9_8e93_5076afe5d3b8row3_col1\" class=\"data row3 col1\" >$4.88</td>\n",
       "                        <td id=\"T_f13921b0_c290_11e9_8e93_5076afe5d3b8row3_col2\" class=\"data row3 col2\" >$39.04</td>\n",
       "            </tr>\n",
       "            <tr>\n",
       "                        <th id=\"T_f13921b0_c290_11e9_8e93_5076afe5d3b8level0_row4\" class=\"row_heading level0 row4\" >103</th>\n",
       "                        <th id=\"T_f13921b0_c290_11e9_8e93_5076afe5d3b8level1_row4\" class=\"row_heading level1 row4\" >Singed Scalpel</th>\n",
       "                        <td id=\"T_f13921b0_c290_11e9_8e93_5076afe5d3b8row4_col0\" class=\"data row4 col0\" >8</td>\n",
       "                        <td id=\"T_f13921b0_c290_11e9_8e93_5076afe5d3b8row4_col1\" class=\"data row4 col1\" >$4.35</td>\n",
       "                        <td id=\"T_f13921b0_c290_11e9_8e93_5076afe5d3b8row4_col2\" class=\"data row4 col2\" >$34.80</td>\n",
       "            </tr>\n",
       "    </tbody></table>"
      ],
      "text/plain": [
       "<pandas.io.formats.style.Styler at 0x146c5988470>"
      ]
     },
     "execution_count": 20,
     "metadata": {},
     "output_type": "execute_result"
    }
   ],
   "source": [
    "#filter the dataframe we created in the last step by total purchase value rather than purchase count\n",
    "formatted_by_purchase_value = items_df.sort_values([\"Total Purchase Value\"],ascending=False).head()\n",
    "formatted_by_purchase_value.style.format({\"Item Price\":\"${:,.2f}\",\"Total Purchase Value\":\"${:,.2f}\"})"
   ]
  },
  {
   "cell_type": "code",
   "execution_count": 21,
   "metadata": {},
   "outputs": [],
   "source": [
    "#Observable Trends\n",
    "# The majority of players are male (84%)\n",
    "# OathBreaker seems to be the most popular item purchased both in terms of purchase count and total purchase value\n",
    "# Most players are between the ages of 20-24, and that age group accounts for the most revenue relative to age group"
   ]
  },
  {
   "cell_type": "code",
   "execution_count": null,
   "metadata": {},
   "outputs": [],
   "source": []
  }
 ],
 "metadata": {
  "anaconda-cloud": {},
  "kernel_info": {
   "name": "python3"
  },
  "kernelspec": {
   "display_name": "Python 3",
   "language": "python",
   "name": "python3"
  },
  "language_info": {
   "codemirror_mode": {
    "name": "ipython",
    "version": 3
   },
   "file_extension": ".py",
   "mimetype": "text/x-python",
   "name": "python",
   "nbconvert_exporter": "python",
   "pygments_lexer": "ipython3",
   "version": "3.6.8"
  },
  "latex_envs": {
   "LaTeX_envs_menu_present": true,
   "autoclose": false,
   "autocomplete": true,
   "bibliofile": "biblio.bib",
   "cite_by": "apalike",
   "current_citInitial": 1,
   "eqLabelWithNumbers": true,
   "eqNumInitial": 1,
   "hotkeys": {
    "equation": "Ctrl-E",
    "itemize": "Ctrl-I"
   },
   "labels_anchors": false,
   "latex_user_defs": false,
   "report_style_numbering": false,
   "user_envs_cfg": false
  },
  "nteract": {
   "version": "0.2.0"
  }
 },
 "nbformat": 4,
 "nbformat_minor": 2
}
